{
 "cells": [
  {
   "cell_type": "markdown",
   "metadata": {},
   "source": [
    "###  Imports"
   ]
  },
  {
   "cell_type": "code",
   "execution_count": 1,
   "metadata": {},
   "outputs": [],
   "source": [
    "import re\n",
    "import sqlite3\n",
    "from dotenv import load_dotenv\n",
    "import os\n",
    "import time\n",
    "\n",
    "from langchain_groq import ChatGroq\n",
    "from langchain_core.output_parsers import StrOutputParser\n",
    "from langchain_core.messages import HumanMessage, SystemMessage, AIMessage\n",
    "from langchain_community.chat_message_histories import ChatMessageHistory\n",
    "from langchain_core.chat_history import BaseChatMessageHistory\n",
    "from langchain_core.runnables.history import RunnableWithMessageHistory\n",
    "from langchain_core.prompts import ChatPromptTemplate, MessagesPlaceholder\n",
    "\n",
    "from langserve import add_routes\n",
    "from fastapi import FastAPI, HTTPException, Request\n",
    "\n",
    "import numpy as np\n",
    "import faiss\n",
    "from langchain_huggingface import HuggingFaceEmbeddings"
   ]
  },
  {
   "cell_type": "markdown",
   "metadata": {},
   "source": [
    "### Keys"
   ]
  },
  {
   "cell_type": "code",
   "execution_count": 2,
   "metadata": {},
   "outputs": [],
   "source": [
    "load_dotenv()\n",
    "\n",
    "#Langsmith Tracking\n",
    "os.environ['LANGCHAIN_API_KEY']=os.getenv('LANGCHAIN_API_KEY')\n",
    "os.environ['LANGCHAIN_TRACKING_V2']=\"true\"\n",
    "os.environ['LANGCHAIN_PROJECT']=os.getenv('LANGCHAIN_PROJECT')\n",
    "os.environ['GROQ_API_KEY']=os.getenv('GROQ_API_KEY')\n",
    "os.environ['HF_TOKEN']=os.getenv('HF_TOKEN')\n",
    "groq_api_key=os.getenv('GROQ_API_KEY')"
   ]
  },
  {
   "cell_type": "code",
   "execution_count": 3,
   "metadata": {},
   "outputs": [
    {
     "name": "stderr",
     "output_type": "stream",
     "text": [
      "c:\\Users\\Dhairya Arora\\Videos\\Gen AI\\LANGCHAIN\\LANGCHAIN-PROJECTS\\aisha\\venv\\lib\\site-packages\\sentence_transformers\\cross_encoder\\CrossEncoder.py:11: TqdmWarning: IProgress not found. Please update jupyter and ipywidgets. See https://ipywidgets.readthedocs.io/en/stable/user_install.html\n",
      "  from tqdm.autonotebook import tqdm, trange\n",
      "c:\\Users\\Dhairya Arora\\Videos\\Gen AI\\LANGCHAIN\\LANGCHAIN-PROJECTS\\aisha\\venv\\lib\\site-packages\\transformers\\tokenization_utils_base.py:1601: FutureWarning: `clean_up_tokenization_spaces` was not set. It will be set to `True` by default. This behavior will be depracted in transformers v4.45, and will be then set to `False` by default. For more details check this issue: https://github.com/huggingface/transformers/issues/31884\n",
      "  warnings.warn(\n"
     ]
    }
   ],
   "source": [
    "model=ChatGroq(model='gemma2-9b-it', groq_api_key=groq_api_key)\n",
    "\n",
    "embedding=HuggingFaceEmbeddings(model_name='all-MiniLM-L6-v2')"
   ]
  },
  {
   "cell_type": "markdown",
   "metadata": {},
   "source": [
    "### DB Handling"
   ]
  },
  {
   "cell_type": "code",
   "execution_count": 4,
   "metadata": {},
   "outputs": [],
   "source": [
    "store={}\n",
    "\n",
    "def get_session_history(session_id:str)->BaseChatMessageHistory:\n",
    "    if session_id not in store:\n",
    "        store[session_id]=ChatMessageHistory()\n",
    "    return store[session_id]\n",
    "\n",
    "\n",
    "def extract_issue_from_response(response_text: str):\n",
    "    # Example pattern to extract the issue; adjust as needed\n",
    "    issue_pattern = re.compile(r'Issue:\\s*([^.]*)')\n",
    "    match = issue_pattern.search(response_text)\n",
    "    return match.group(1) if match else \"Issue details not found.\"\n",
    "\n",
    "def add_complaint(ticket_no: str, phone: str, issue: str):\n",
    "    conn = sqlite3.connect('walmart.db')\n",
    "    cursor = conn.cursor()\n",
    "\n",
    "    # Insert the complaint into the complaints table\n",
    "    cursor.execute('''\n",
    "    INSERT INTO complaints (ticketNo, phone, issue)\n",
    "    VALUES (?, ?, ?)\n",
    "    ''', (ticket_no, phone, issue))\n",
    "\n",
    "    conn.commit()\n",
    "    conn.close()\n",
    "    print(f\"Complaint added with ticket number {ticket_no}\")\n",
    "\n",
    "\n",
    "# Regex patterns\n",
    "# 10 digit phone number\n",
    "PHONE_PATTERN = re.compile(r'\\b\\d{4}\\s\\d{3}\\s\\d{3}\\b')\n",
    "\n",
    "# 5 digit number followed by 3 uppercase letters\n",
    "ORDER_ID_PATTERN = re.compile(r'\\b\\d{4}\\b')\n",
    "\n",
    "def find_phone_number(text: str):\n",
    "    match = PHONE_PATTERN.search(text)\n",
    "    return match.group(0) if match else None\n",
    "\n",
    "def find_order_id(text: str):\n",
    "    match = ORDER_ID_PATTERN.search(text)\n",
    "    return match.group(0) if match else None\n",
    "\n",
    "def query_customer(phone: str):\n",
    "    conn = sqlite3.connect('walmart.db')\n",
    "    cursor = conn.cursor()\n",
    "    \n",
    "    cursor.execute('SELECT * FROM customers WHERE phone = ?', (phone,))\n",
    "    result = cursor.fetchone()\n",
    "    conn.close()\n",
    "    return result\n",
    "\n",
    "def query_order(order_id: str):\n",
    "    conn = sqlite3.connect('walmart.db')\n",
    "    cursor = conn.cursor()\n",
    "    \n",
    "    cursor.execute('SELECT * FROM orders WHERE orderId = ?', (order_id,))\n",
    "    result = cursor.fetchone()\n",
    "    conn.close()\n",
    "    return result"
   ]
  },
  {
   "cell_type": "markdown",
   "metadata": {},
   "source": [
    "### Conversation Information Handling (VectorDB)"
   ]
  },
  {
   "cell_type": "code",
   "execution_count": 5,
   "metadata": {},
   "outputs": [],
   "source": [
    "# Define a dictionary to store FAISS indices for each session\n",
    "faiss_indices = {}\n",
    "faiss_stores = {}\n",
    "complaint_stores = {}\n",
    "\n",
    "def get_faiss_index(session_id: str):\n",
    "    if session_id not in faiss_indices:\n",
    "        dimension = 384  # Dimension of the embeddings\n",
    "        faiss_indices[session_id] = faiss.IndexFlatL2(dimension)\n",
    "        faiss_stores[session_id] = {}\n",
    "    return faiss_indices[session_id], faiss_stores[session_id]\n",
    "\n",
    "\n",
    "def store_in_faiss(data_tuple, query_type, session_id):\n",
    "    index, faiss_store = get_faiss_index(session_id)\n",
    "\n",
    "    if query_type == 'customer':\n",
    "        text = f\"User ID: {data_tuple[0]}, Name: {data_tuple[1]} {data_tuple[2]}, Email: {data_tuple[3]}, Phone: {data_tuple[4]}, Address: {data_tuple[5]}, Registration Date: {data_tuple[6]}\"\n",
    "    elif query_type == 'order':\n",
    "        text = f\"Order ID: {data_tuple[0]}, User ID: {data_tuple[1]}, Order Date: {data_tuple[2]}, Total Amount: {data_tuple[3]}, Status: {data_tuple[4]}, Shipping Address: {data_tuple[5]}\"\n",
    "    else:\n",
    "        text = data_tuple\n",
    "\n",
    "    embedding_vector = embedding.embed_query(text)\n",
    "    embedding_vector = np.array(embedding_vector).reshape(1, -1)\n",
    "    index.add(embedding_vector)\n",
    "    faiss_store[text] = embedding_vector\n",
    "    print(f\"Added to FAISS for session {session_id}: {text}\")\n",
    "\n",
    "\n",
    "def search_faiss(query_text, session_id):\n",
    "    index, _ = get_faiss_index(session_id)\n",
    "\n",
    "    query_vector = embedding.embed_query(query_text)\n",
    "    query_vector = np.array(query_vector).reshape(1, -1)\n",
    "\n",
    "    distances, indices = index.search(query_vector, k=5)\n",
    "\n",
    "    if indices.size == 0 or indices[0][0] == -1:\n",
    "        return []\n",
    "\n",
    "    results = []\n",
    "    faiss_store = faiss_stores.get(session_id, {})\n",
    "    for idx in indices[0]:\n",
    "        if 0 <= idx < len(faiss_store):\n",
    "            results.append(list(faiss_store.keys())[idx])\n",
    "\n",
    "    return results\n"
   ]
  },
  {
   "cell_type": "markdown",
   "metadata": {},
   "source": [
    "### Setup"
   ]
  },
  {
   "cell_type": "code",
   "execution_count": 6,
   "metadata": {},
   "outputs": [],
   "source": [
    "config={\"configurable\":{\"session_id\" : '{session_id}'}}"
   ]
  },
  {
   "cell_type": "code",
   "execution_count": 7,
   "metadata": {},
   "outputs": [],
   "source": [
    "prompt = ChatPromptTemplate.from_messages(\n",
    "    [\n",
    "        (\"system\", '''You are AISHA, a calm and helpful customer support agent. Answer the queries in {language}.\n",
    "                    Greet users & introduce yourself only in the first message of the session and ask for phone number.\n",
    "                    Respond to user queries directly, without greetings or unnecessary repetition or white spaces.\n",
    "                    DON'T REPEAT THE THINGS YOU HAVE SAID BEFORE.\n",
    "                    If the user expresses gratitude or says goodbye, acknowledge it politely.\n",
    "                    If the user's name or phone number is missing, ask for it.\n",
    "                    For technical issues, provide basic troubleshooting steps.\n",
    "                    For complaints, try to resolve the complaint, if you are not able to resolve the issue, or customer is not satisfied,\n",
    "                    create a ticket for the customer. REMEMBER: While creating a ticket, always give a ticket number to the customer.\n",
    "                    When you are giving a ticket number add this kind of line to your response describing the issue. Issue: write the issue here.\n",
    "                    The ticket number should be unique and comprise of 2 random uppercase letters followed by 4 random digits.\n",
    "                    Avoid answering unrelated questions and guide users to stay on topic.\n",
    "                    Do not offer discounts or promotions.\n",
    "                    Keep it short, if the query is solved, ask if they have any more queries.\n",
    "                    If user says thank you or goodbye or issue resolved, just end the conversation.\n",
    "                    If no further queries, end with: \"Thank you for contacting us. Have a great day!\"\n",
    "                      '''),\n",
    "        # ('assistant', 'Hi! My name is AISHA. How can I help you today?'),\n",
    "        ('system', 'This is the context of user from Database: {faiss_context}'),\n",
    "        MessagesPlaceholder(variable_name=\"history\"),\n",
    "        (\"human\", \"{input}\"),\n",
    "    ]\n",
    ")\n",
    "\n",
    "output_parser=StrOutputParser()\n",
    "\n",
    "chain=prompt|model|output_parser\n",
    "\n",
    "\n",
    "with_message_history = RunnableWithMessageHistory(\n",
    "    chain,\n",
    "    get_session_history,\n",
    "    input_messages_key=\"input\",\n",
    "    history_messages_key=\"history\",\n",
    ")"
   ]
  },
  {
   "cell_type": "markdown",
   "metadata": {},
   "source": [
    "### Test Query"
   ]
  },
  {
   "cell_type": "code",
   "execution_count": 8,
   "metadata": {},
   "outputs": [
    {
     "name": "stderr",
     "output_type": "stream",
     "text": [
      "Error in RootListenersTracer.on_chain_end callback: ValueError()\n",
      "Error in callback coroutine: ValueError()\n"
     ]
    },
    {
     "data": {
      "text/plain": [
       "'नमस्ते, मैं AISHA हूँ, आपकी सहायता करने के लिए यहाँ। \\nआपका फ़ोन नंबर क्या है? \\n\\n\\n'"
      ]
     },
     "execution_count": 8,
     "metadata": {},
     "output_type": "execute_result"
    }
   ],
   "source": [
    "response = with_message_history.invoke(\n",
    "            input={\n",
    "                \"input\": [HumanMessage(content=\"My order isn't delivered\")],\n",
    "                \"faiss_context\": \"\",\n",
    "                \"language\": \"hindi\"\n",
    "            },\n",
    "            config={\"configurable\": {\"session_id\": \"test\"}}\n",
    "        )\n",
    "\n",
    "response"
   ]
  },
  {
   "cell_type": "code",
   "execution_count": null,
   "metadata": {},
   "outputs": [],
   "source": []
  }
 ],
 "metadata": {
  "kernelspec": {
   "display_name": "Python 3",
   "language": "python",
   "name": "python3"
  },
  "language_info": {
   "codemirror_mode": {
    "name": "ipython",
    "version": 3
   },
   "file_extension": ".py",
   "mimetype": "text/x-python",
   "name": "python",
   "nbconvert_exporter": "python",
   "pygments_lexer": "ipython3",
   "version": "3.10.0"
  }
 },
 "nbformat": 4,
 "nbformat_minor": 2
}
